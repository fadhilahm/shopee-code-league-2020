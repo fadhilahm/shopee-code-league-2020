{
 "cells": [
  {
   "cell_type": "markdown",
   "metadata": {},
   "source": [
    "# Segment 1"
   ]
  },
  {
   "cell_type": "markdown",
   "metadata": {},
   "source": [
    "## Hands-On #1"
   ]
  },
  {
   "cell_type": "code",
   "execution_count": 1,
   "metadata": {},
   "outputs": [],
   "source": [
    "def interest_saving(principal, interest):\n",
    "    print(\n",
    "'''Balance after 1st year: S${}\n",
    "Balance after 2nd year: S${}\n",
    "Balance after 3rd year: S${}'''.format((principal + principal*interest),\n",
    "                                        ((principal + principal*interest) + (principal + principal*interest)*interest),\n",
    "                                        (((principal + principal*interest) + (principal + principal*interest)*interest) + ((principal + principal*interest) + (principal + principal*interest)*interest)*interest)))"
   ]
  },
  {
   "cell_type": "code",
   "execution_count": 2,
   "metadata": {
    "scrolled": true
   },
   "outputs": [
    {
     "name": "stdout",
     "output_type": "stream",
     "text": [
      "Balance after 1st year: S$8653.0\n",
      "Balance after 2nd year: S$8808.754\n",
      "Balance after 3rd year: S$8967.311572\n"
     ]
    }
   ],
   "source": [
    "# Test set\n",
    "interest_saving(8500, 0.018)"
   ]
  },
  {
   "cell_type": "markdown",
   "metadata": {},
   "source": [
    "## Hands-On #2"
   ]
  },
  {
   "cell_type": "code",
   "execution_count": 23,
   "metadata": {},
   "outputs": [],
   "source": [
    "def gives_change(*arg):\n",
    "    if len(arg) == 1:\n",
    "        arg = arg[0]\n",
    "    changes = [10.0, 5.0, 2.0, 1.0, 0.5, 0.2, 0.1]\n",
    "    translated = ['$10', '$5', '$2', '$1', '50c', '20c', '10c']\n",
    "    quantity = [0, 0, 0, 0, 0, 0, 0, 0]\n",
    "    while arg != 0:\n",
    "        for i in range(len(changes)):\n",
    "            if arg - changes[i] >= 0:\n",
    "                while arg - changes[i] >= 0:\n",
    "                    quantity[i] += 1\n",
    "                    arg = round(arg - changes[i], 1)\n",
    "            else:\n",
    "                continue\n",
    "    for i in range(len(changes)):\n",
    "        print('{} x {}'.format(translated[i], quantity[i]))"
   ]
  },
  {
   "cell_type": "code",
   "execution_count": 24,
   "metadata": {},
   "outputs": [
    {
     "name": "stdout",
     "output_type": "stream",
     "text": [
      "$10 x 0\n",
      "$5 x 1\n",
      "$2 x 2\n",
      "$1 x 0\n",
      "50c x 1\n",
      "20c x 1\n",
      "10c x 1\n"
     ]
    }
   ],
   "source": [
    "# Test set\n",
    "gives_change(9.8)"
   ]
  },
  {
   "cell_type": "markdown",
   "metadata": {},
   "source": [
    "# Segment 2"
   ]
  },
  {
   "cell_type": "markdown",
   "metadata": {},
   "source": [
    "## Hands-On #3"
   ]
  },
  {
   "cell_type": "code",
   "execution_count": 36,
   "metadata": {},
   "outputs": [],
   "source": [
    "def bill_generator(**kwargs):\n",
    "    talk_time, talk_time_bill = kwargs.get('talk_time'), 0\n",
    "    sms, sms_bill = kwargs.get('sms'), 0\n",
    "    data, data_bill = kwargs.get('data'), 0\n",
    "    # Check talk_time\n",
    "    if talk_time > 120:\n",
    "        for _ in range(talk_time - 120):\n",
    "            talk_time_bill += 0.25\n",
    "    # Check sms\n",
    "    if sms > 50:\n",
    "        for _ in range(sms - 50):\n",
    "            sms_bill += 0.15\n",
    "    # Check data\n",
    "    if data > 5:\n",
    "        for _ in range(data - 5):\n",
    "            if round(data_bill,1) <= 177.3:\n",
    "                data_bill += 10.7\n",
    "    # Print the whole thing\n",
    "    print('''\n",
    "    Talk time (mins): {talk_time}\n",
    "    SMS             : {sms}\n",
    "    Data(GB)        : {data}\n",
    "    \n",
    "                BILL\n",
    "    ==================================\n",
    "    Base charge     : 50$\n",
    "    Add. charges    :\n",
    "        Talk time   : {talk_time_bill}$\n",
    "        SMS         : {sms_bill}$\n",
    "        Data        : {data_bill}$\n",
    "    ----------------------------------\n",
    "    Sub-total       : {sub_total}$\n",
    "    GST (7%)        : {GST}$\n",
    "    ----------------------------------\n",
    "    TOTAL           : {total}$\n",
    "    '''.format(\n",
    "        talk_time = talk_time,\n",
    "        sms = sms,\n",
    "        data = data,\n",
    "        talk_time_bill = talk_time_bill,\n",
    "        sms_bill = sms_bill,\n",
    "        data_bill = data_bill,\n",
    "        sub_total = 50 + talk_time_bill + sms_bill + data_bill,\n",
    "        GST = 0.07 * (50 + talk_time_bill + sms_bill + data_bill),\n",
    "        total = (50 + talk_time_bill + sms_bill + data_bill) + (0.07 * (50 + talk_time_bill + sms_bill + data_bill))\n",
    "    ))"
   ]
  },
  {
   "cell_type": "code",
   "execution_count": 37,
   "metadata": {},
   "outputs": [
    {
     "name": "stdout",
     "output_type": "stream",
     "text": [
      "\n",
      "    Talk time (mins): 121\n",
      "    SMS             : 51\n",
      "    Data(GB)        : 99999999\n",
      "    \n",
      "                BILL\n",
      "    ==================================\n",
      "    Base charge     : 50$\n",
      "    Add. charges    :\n",
      "        Talk time   : 0.25$\n",
      "        SMS         : 0.15$\n",
      "        Data        : 181.89999999999995$\n",
      "    ----------------------------------\n",
      "    Sub-total       : 232.29999999999995$\n",
      "    GST (7%)        : 16.261$\n",
      "    ----------------------------------\n",
      "    TOTAL           : 248.56099999999995$\n",
      "    \n"
     ]
    }
   ],
   "source": [
    "# Test set\n",
    "bill_generator(talk_time = 121, sms = 51, data = 99999999)"
   ]
  },
  {
   "cell_type": "markdown",
   "metadata": {},
   "source": [
    "## Hands-on #4"
   ]
  },
  {
   "cell_type": "code",
   "execution_count": 48,
   "metadata": {},
   "outputs": [],
   "source": [
    "def is_palindrome(*args):\n",
    "    print('''Enter string: {}'''.format(args[0]))\n",
    "    if len(args) == 1:\n",
    "        args = args[0]\n",
    "    reversed = ''\n",
    "    for i in range(len(args)):\n",
    "        reversed += args[len(args) - 1 - i]\n",
    "    for i in range(len(args)):\n",
    "        if args[i].upper() != reversed[i].upper():\n",
    "            print('''\"{}\" is NOT a palindrome'''.format(args))\n",
    "            return None\n",
    "    print('''\"{}\" is a palindrome'''.format(args))"
   ]
  },
  {
   "cell_type": "code",
   "execution_count": 51,
   "metadata": {
    "scrolled": true
   },
   "outputs": [
    {
     "name": "stdout",
     "output_type": "stream",
     "text": [
      "Enter string: anna\n",
      "\"anna\" is a palindrome\n"
     ]
    }
   ],
   "source": [
    "# Test set\n",
    "is_palindrome('anna')"
   ]
  },
  {
   "cell_type": "markdown",
   "metadata": {},
   "source": [
    "## Hands-0n #5"
   ]
  },
  {
   "cell_type": "code",
   "execution_count": 59,
   "metadata": {},
   "outputs": [],
   "source": [
    "# Import library for copying without reference\n",
    "from copy import copy"
   ]
  },
  {
   "cell_type": "code",
   "execution_count": 62,
   "metadata": {},
   "outputs": [],
   "source": [
    "def better_is_palindrome(*args):\n",
    "    print('''Enter string: {}'''.format(args[0]))\n",
    "    args_copy = copy(args[0])\n",
    "    if len(args) == 1:\n",
    "        args = args[0].replace(' ','')\n",
    "    reversed = ''\n",
    "    for i in range(len(args)):\n",
    "        reversed += args[len(args) - 1 - i]\n",
    "    for i in range(len(args)):\n",
    "        if args[i].upper() != reversed[i].upper():\n",
    "            print('''\"{}\" is NOT a palindrome'''.format(args))\n",
    "            return None\n",
    "    print('''\"{}\" is a palindrome'''.format(args_copy))"
   ]
  },
  {
   "cell_type": "code",
   "execution_count": 65,
   "metadata": {},
   "outputs": [
    {
     "name": "stdout",
     "output_type": "stream",
     "text": [
      "Enter string: go DOG\n",
      "\"go DOG\" is a palindrome\n"
     ]
    }
   ],
   "source": [
    "better_is_palindrome('go DOG')"
   ]
  },
  {
   "cell_type": "markdown",
   "metadata": {},
   "source": [
    "# Hands-On #6"
   ]
  },
  {
   "cell_type": "code",
   "execution_count": 98,
   "metadata": {},
   "outputs": [],
   "source": [
    "def average_listing(*args):\n",
    "    if len(args) == 1:\n",
    "        args = args[0]\n",
    "    # Define initial values\n",
    "    no_sum = 0\n",
    "    count = len(args) - 1\n",
    "    average = []\n",
    "    below_average = []\n",
    "    above_average = []\n",
    "    # Calculate sum\n",
    "    for i in range(count):\n",
    "        no_sum += args[i]\n",
    "    # Calculate mean\n",
    "    mean = no_sum / count\n",
    "    # Group errything...\n",
    "    for i in range(count):\n",
    "        if  args[i] > mean:\n",
    "            above_average += [args[i]]\n",
    "        elif args[i] < mean:\n",
    "            below_average += [args[i]]\n",
    "        else:\n",
    "            average += [args[i]]\n",
    "    # Format it cleanly\n",
    "    print('''\n",
    "    average        : {mean}\n",
    "    +=+=+=+=+=+=+=+ LIST +=+=+=+=+=+=+=+\n",
    "    below_average  : {below_average}\n",
    "    average        : {average}\n",
    "    above_average  : {above_average}\n",
    "    '''.format(\n",
    "        mean = mean,\n",
    "        below_average = below_average,\n",
    "        average = average,\n",
    "        above_average = above_average))"
   ]
  },
  {
   "cell_type": "code",
   "execution_count": 99,
   "metadata": {},
   "outputs": [
    {
     "name": "stdout",
     "output_type": "stream",
     "text": [
      "Enter a number (use blank to stop): 1\n",
      "Enter a number (use blank to stop): 2\n",
      "Enter a number (use blank to stop): 3\n",
      "Enter a number (use blank to stop): 4\n",
      "Enter a number (use blank to stop): 5\n",
      "Enter a number (use blank to stop): 6\n",
      "Enter a number (use blank to stop): 10\n",
      "Enter a number (use blank to stop): \n",
      "\n",
      "    average        : 4.428571428571429\n",
      "    +=+=+=+=+=+=+=+ LIST +=+=+=+=+=+=+=+\n",
      "    below_average  : [1, 2, 3, 4]\n",
      "    average        : []\n",
      "    above_average  : [5, 6, 10]\n",
      "    \n"
     ]
    }
   ],
   "source": [
    "arr = []\n",
    "temp = None\n",
    "while temp != '':\n",
    "    temp = input('Enter a number (use blank to stop): ')\n",
    "    arr = arr + [int(temp)] if temp != '' else arr + [(temp)] \n",
    "average_listing(arr)"
   ]
  },
  {
   "cell_type": "markdown",
   "metadata": {},
   "source": [
    "## Hands-On #7"
   ]
  },
  {
   "cell_type": "code",
   "execution_count": 107,
   "metadata": {},
   "outputs": [],
   "source": [
    "def create_deck():\n",
    "    first = ['2', '3', '4', '5', '6', '7', '8', '9', 'T', 'J', 'Q', 'K', 'A']\n",
    "    second = ['s', 'h', 'd', 'c']\n",
    "    deck = []\n",
    "    for i in range(len(first)):\n",
    "        for j in range(len(second)):\n",
    "            deck += [(first[i] + second[j])]\n",
    "    return deck"
   ]
  },
  {
   "cell_type": "code",
   "execution_count": 108,
   "metadata": {},
   "outputs": [
    {
     "name": "stdout",
     "output_type": "stream",
     "text": [
      "['2s', '2h', '2d', '2c', '3s', '3h', '3d', '3c', '4s', '4h', '4d', '4c', '5s', '5h', '5d', '5c', '6s', '6h', '6d', '6c', '7s', '7h', '7d', '7c', '8s', '8h', '8d', '8c', '9s', '9h', '9d', '9c', 'Ts', 'Th', 'Td', 'Tc', 'Js', 'Jh', 'Jd', 'Jc', 'Qs', 'Qh', 'Qd', 'Qc', 'Ks', 'Kh', 'Kd', 'Kc', 'As', 'Ah', 'Ad', 'Ac']\n"
     ]
    }
   ],
   "source": [
    "# Test function\n",
    "print(create_deck())"
   ]
  }
 ],
 "metadata": {
  "kernelspec": {
   "display_name": "Python 3",
   "language": "python",
   "name": "python3"
  },
  "language_info": {
   "codemirror_mode": {
    "name": "ipython",
    "version": 3
   },
   "file_extension": ".py",
   "mimetype": "text/x-python",
   "name": "python",
   "nbconvert_exporter": "python",
   "pygments_lexer": "ipython3",
   "version": "3.7.6"
  }
 },
 "nbformat": 4,
 "nbformat_minor": 4
}
