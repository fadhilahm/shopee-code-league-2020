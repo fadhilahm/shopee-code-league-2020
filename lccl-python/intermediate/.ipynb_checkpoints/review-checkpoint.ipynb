{
 "cells": [
  {
   "cell_type": "markdown",
   "metadata": {},
   "source": [
    "# Hands-On #0\n",
    "- Create a list of prime numbers between 0 and 100.\n",
    "- Sum these prime numbers.\n",
    "- Calculate the digit sums of these prime numbers.\n",
    "- String the prime numbers into a big string.\n",
    "\n",
    "`27 min`\n"
   ]
  },
  {
   "cell_type": "code",
   "execution_count": 72,
   "metadata": {
    "ExecuteTime": {
     "end_time": "2020-07-12T12:04:57.983734Z",
     "start_time": "2020-07-12T12:04:57.974862Z"
    }
   },
   "outputs": [],
   "source": [
    "def check_prime (*args):\n",
    "    if len(args) == 1:\n",
    "        args = args[0]\n",
    "    if args == 0 or args == 1:\n",
    "        return False\n",
    "    for i in range(1,args):\n",
    "        if i != 1 and i != args:\n",
    "            if args % i == 0:\n",
    "                return False\n",
    "    return True\n",
    "\n",
    "def to_digit_sums (*args):\n",
    "    if len(args) == 1:\n",
    "        args = args[0]\n",
    "    if len(str(args)) < 2:\n",
    "        return args\n",
    "    answer = int(str(sum([int(x) for x in str(args)]))[len(str(sum([int(x) for x in str(args)]))) - 1])\n",
    "    return answer if answer != 0 else 10\n",
    "\n",
    "def prime_numbers(*args):\n",
    "    if len(args) == 1:\n",
    "        args = args[0]\n",
    "    prime_only = [x for x in range(101) if check_prime(x)]\n",
    "    digit_sums = [to_digit_sums(x) for x in prime_only]\n",
    "    \n",
    "    # Prep the desired output\n",
    "    print('''\n",
    "    Prime numbers between 0 and 100:\n",
    "    {}\n",
    "    \n",
    "    Sum:\n",
    "    {}\n",
    "    \n",
    "    Digit Sums:\n",
    "    {}\n",
    "    \n",
    "    String of primes:\n",
    "    {}\n",
    "    '''.format(prime_only, sum(prime_only), digit_sums, ''.join(map(str, prime_only))))"
   ]
  },
  {
   "cell_type": "code",
   "execution_count": 73,
   "metadata": {
    "ExecuteTime": {
     "end_time": "2020-07-12T12:04:58.769276Z",
     "start_time": "2020-07-12T12:04:58.765947Z"
    }
   },
   "outputs": [
    {
     "name": "stdout",
     "output_type": "stream",
     "text": [
      "\n",
      "    Prime numbers between 0 and 100:\n",
      "    [2, 3, 5, 7, 11, 13, 17, 19, 23, 29, 31, 37, 41, 43, 47, 53, 59, 61, 67, 71, 73, 79, 83, 89, 97]\n",
      "    \n",
      "    Sum:\n",
      "    1060\n",
      "    \n",
      "    Digit Sums:\n",
      "    [2, 3, 5, 7, 2, 4, 8, 10, 5, 1, 4, 10, 5, 7, 1, 8, 4, 7, 3, 8, 10, 6, 1, 7, 6]\n",
      "    \n",
      "    String of primes:\n",
      "    2357111317192329313741434753596167717379838997\n",
      "    \n"
     ]
    }
   ],
   "source": [
    "# Test run\n",
    "prime_numbers()"
   ]
  },
  {
   "cell_type": "markdown",
   "metadata": {},
   "source": [
    "# Hands-On #1\n",
    "`7 min`"
   ]
  },
  {
   "cell_type": "markdown",
   "metadata": {},
   "source": [
    "Print the number of unique case-sensitive characters in a string"
   ]
  },
  {
   "cell_type": "code",
   "execution_count": 84,
   "metadata": {
    "ExecuteTime": {
     "end_time": "2020-07-12T12:16:06.542314Z",
     "start_time": "2020-07-12T12:16:06.538242Z"
    }
   },
   "outputs": [],
   "source": [
    "def check_unique(*args):\n",
    "    if len(args) == 1:\n",
    "        args = args[0]\n",
    "    duplicates = []\n",
    "    for el in args:\n",
    "        if el not in duplicates:\n",
    "            duplicates += [el]\n",
    "    print('''\n",
    "    String: {}\n",
    "    Unique chars: {}\n",
    "    '''.format(args, len(duplicates)))\n",
    "    return None"
   ]
  },
  {
   "cell_type": "code",
   "execution_count": 85,
   "metadata": {
    "ExecuteTime": {
     "end_time": "2020-07-12T12:16:06.805123Z",
     "start_time": "2020-07-12T12:16:06.801318Z"
    }
   },
   "outputs": [
    {
     "name": "stdout",
     "output_type": "stream",
     "text": [
      "\n",
      "    String: AppLe\n",
      "    Unique chars: 4\n",
      "    \n",
      "\n",
      "    String: aPple\n",
      "    Unique chars: 5\n",
      "    \n",
      "\n",
      "    String: aaa\n",
      "    Unique chars: 1\n",
      "    \n"
     ]
    }
   ],
   "source": [
    "# Test set\n",
    "check_unique('AppLe')\n",
    "check_unique('aPple')\n",
    "check_unique('aaa')"
   ]
  },
  {
   "cell_type": "markdown",
   "metadata": {},
   "source": [
    "# Hands-On #2\n",
    "Take an input string and report groups of words that start with the same letter.\n",
    "\n",
    "`23 min`"
   ]
  },
  {
   "cell_type": "code",
   "execution_count": 144,
   "metadata": {
    "ExecuteTime": {
     "end_time": "2020-07-12T12:39:25.419068Z",
     "start_time": "2020-07-12T12:39:25.414021Z"
    }
   },
   "outputs": [],
   "source": [
    "def report(*args):\n",
    "    if len(args) == 1:\n",
    "        args = args[0]\n",
    "    unique = {}\n",
    "    # Clean the string\n",
    "    modified = list(map(lambda x: x.strip(),args.split('\\n')))\n",
    "    modified.pop()\n",
    "    modified.pop(0)\n",
    "    # Group into the dictionary\n",
    "    for sentence in modified:\n",
    "        for words in sentence.split(' '):\n",
    "            if words[0].upper() not in unique.keys():\n",
    "                unique[words[0].upper()] = set()\n",
    "            unique[words[0].upper()].add(words)\n",
    "    print(unique)"
   ]
  },
  {
   "cell_type": "code",
   "execution_count": 145,
   "metadata": {
    "ExecuteTime": {
     "end_time": "2020-07-12T12:39:30.829007Z",
     "start_time": "2020-07-12T12:39:30.823272Z"
    }
   },
   "outputs": [
    {
     "name": "stdout",
     "output_type": "stream",
     "text": [
      "{'S': {'star', 'Someday'}, 'I': {\"I'll\"}, 'W': {'Wake', 'where', 'wish', 'Where'}, 'U': {'upon', 'up'}, 'A': {'above', 'a', 'are'}, 'T': {'trouble', 'top', \"That's\", 'the'}, 'C': {'clouds', 'chimney'}, 'F': {'far', 'find'}, 'B': {'behind'}, 'M': {'me', 'melts'}, 'L': {'lemon', 'like'}, 'D': {'drops'}, 'H': {'High'}, 'Y': {\"you'll\"}}\n"
     ]
    }
   ],
   "source": [
    "# Test set\n",
    "report('''\n",
    "    Someday I'll wish upon a star\n",
    "    Wake up where the clouds are far behind me\n",
    "    Where trouble melts like lemon drops\n",
    "    High above the chimney top\n",
    "    That's where you'll find me\n",
    "''')"
   ]
  },
  {
   "cell_type": "markdown",
   "metadata": {},
   "source": [
    "# Hands-On #3\n",
    "Read a file.. Report the number of words in the file that start with a consonant, and number of words that start with vowels.\n",
    "\n",
    "`11.5 min`"
   ]
  },
  {
   "cell_type": "code",
   "execution_count": 154,
   "metadata": {
    "ExecuteTime": {
     "end_time": "2020-07-12T12:51:20.089337Z",
     "start_time": "2020-07-12T12:51:20.083835Z"
    }
   },
   "outputs": [],
   "source": [
    "def describe_file(*args):\n",
    "    if len(args) == 1:\n",
    "        args = args[0]\n",
    "    with open(args, 'r') as my_text:\n",
    "        from_file = my_text.read()\n",
    "    vowels = 'aiueoAIUEO'\n",
    "    arr_vowels = []\n",
    "    arr_consonants = []\n",
    "    for word in from_file.split(' '):\n",
    "        if word[0] in vowels:\n",
    "            arr_vowels.append(word)\n",
    "        else:\n",
    "            arr_consonants.append(word)\n",
    "    # Prep the desired output\n",
    "    print('''\n",
    "    List of vowels       : {}\n",
    "    List of consonants   : {}\n",
    "    ===========================\n",
    "    Words that start with vowels    : {}\n",
    "    Words that start with consonants: {}\n",
    "    '''.format(arr_vowels, arr_consonants, len(arr_vowels), len(arr_consonants)))"
   ]
  },
  {
   "cell_type": "code",
   "execution_count": 155,
   "metadata": {
    "ExecuteTime": {
     "end_time": "2020-07-12T12:51:20.287501Z",
     "start_time": "2020-07-12T12:51:20.284022Z"
    }
   },
   "outputs": [
    {
     "name": "stdout",
     "output_type": "stream",
     "text": [
      "\n",
      "    List of vowels       : ['is', 'a', 'and', 'is', 'also', 'a']\n",
      "    List of consonants   : ['this', 'not', 'consonant', 'this', 'probably', 'not', 'consonant', 'maybe']\n",
      "    ===========================\n",
      "    Words that start with vowels    : 6\n",
      "    Words that start with consonants: 8\n",
      "    \n"
     ]
    }
   ],
   "source": [
    "# Test drive\n",
    "describe_file('./myFile.txt')"
   ]
  },
  {
   "cell_type": "markdown",
   "metadata": {},
   "source": [
    "# Hands-On #4\n",
    "Write a program that reads a Python file. The program removes comments from the input file and output the same python program without comments. Ignore cases where the comments appear in a string."
   ]
  },
  {
   "cell_type": "code",
   "execution_count": 182,
   "metadata": {
    "ExecuteTime": {
     "end_time": "2020-07-12T13:16:38.093700Z",
     "start_time": "2020-07-12T13:16:38.086822Z"
    }
   },
   "outputs": [],
   "source": [
    "def remove_comments(*args):\n",
    "    if len(args) == 1:\n",
    "        args = args[0]\n",
    "    with open(args, 'r') as python_code:\n",
    "        read_only = python_code.readlines()\n",
    "        for i in range(len(read_only)): # Read every line\n",
    "            if '#' in read_only[i]: # Check if `#` exists in the line\n",
    "                replacement = ''\n",
    "                for letter in read_only[i]:\n",
    "                    if letter == '#':\n",
    "                        break\n",
    "                    replacement += letter\n",
    "                read_only[i] = replacement if len(replacement) == 0 else replacement + '\\n'\n",
    "        # remove lines with 0 length element\n",
    "        new_code = ''.join([x for x in read_only if len(x) != 0])\n",
    "        with open(args, 'w') as python_write:\n",
    "            python_write.write(new_code)"
   ]
  },
  {
   "cell_type": "code",
   "execution_count": 183,
   "metadata": {
    "ExecuteTime": {
     "end_time": "2020-07-12T13:16:39.377566Z",
     "start_time": "2020-07-12T13:16:39.372711Z"
    }
   },
   "outputs": [],
   "source": [
    "# Test drive\n",
    "remove_comments('./exampleCode.py') # Only run this once"
   ]
  },
  {
   "cell_type": "markdown",
   "metadata": {},
   "source": [
    "# Hands-On #5\n",
    "Write a function, multsum that takes a number, n. It outputs the sum of multiples of 3 and 5 from 0 up to but not including n.\n",
    "\n",
    "`5 min`"
   ]
  },
  {
   "cell_type": "code",
   "execution_count": 184,
   "metadata": {
    "ExecuteTime": {
     "end_time": "2020-07-12T15:27:49.936052Z",
     "start_time": "2020-07-12T15:27:49.925966Z"
    }
   },
   "outputs": [],
   "source": [
    "def multsum(*args):\n",
    "    if len(args) == 1:\n",
    "        args = args[0]\n",
    "    library = []\n",
    "    for i in range(args):\n",
    "        if i % 3 == 0 or i % 5 == 0:\n",
    "            library.append(i)\n",
    "    return sum(library)"
   ]
  },
  {
   "cell_type": "code",
   "execution_count": 186,
   "metadata": {
    "ExecuteTime": {
     "end_time": "2020-07-12T15:28:39.253444Z",
     "start_time": "2020-07-12T15:28:39.248946Z"
    }
   },
   "outputs": [
    {
     "name": "stdout",
     "output_type": "stream",
     "text": [
      "45\n",
      "0\n",
      "0\n",
      "2318\n"
     ]
    }
   ],
   "source": [
    "# Test run \n",
    "print(multsum(15)) # 45. from 3 + 5 + 6 + 9 + 10 + 12\n",
    "print(multsum(0)) # 0\n",
    "print(multsum(-10)) # 0\n",
    "print(multsum(100)) # 2315"
   ]
  },
  {
   "cell_type": "markdown",
   "metadata": {},
   "source": [
    "# Hands-On #6\n",
    "Write a function, repeats, that take a string. It outputs the number of characters that occur more than once in tha string. Ignore casing.\n",
    "`Invalid because I forgot whether or not this quiz has a revision`"
   ]
  },
  {
   "cell_type": "code",
   "execution_count": 213,
   "metadata": {
    "ExecuteTime": {
     "end_time": "2020-07-12T16:00:40.332775Z",
     "start_time": "2020-07-12T16:00:40.327344Z"
    }
   },
   "outputs": [],
   "source": [
    "def repeats(*args):\n",
    "    if len(args) == 1:\n",
    "        args = args[0]\n",
    "    duplicates = []\n",
    "    real_duplicates = []\n",
    "    for i in range(len(args)):\n",
    "        if args[i].upper() not in duplicates:\n",
    "            duplicates.append(args[i].upper())\n",
    "            continue\n",
    "        if args[i].upper() in duplicates and args[i].upper() not in real_duplicates and args[i].upper() != args[i-1].upper():\n",
    "            real_duplicates.append(args[i].upper())\n",
    "    return len(real_duplicates)"
   ]
  },
  {
   "cell_type": "code",
   "execution_count": 214,
   "metadata": {
    "ExecuteTime": {
     "end_time": "2020-07-12T16:00:40.716031Z",
     "start_time": "2020-07-12T16:00:40.711851Z"
    }
   },
   "outputs": [
    {
     "name": "stdout",
     "output_type": "stream",
     "text": [
      "0\n",
      "1\n",
      "1\n",
      "2\n"
     ]
    }
   ],
   "source": [
    "# Test run\n",
    "print(repeats('aaaa')) # 0\n",
    "print(repeats('abBA')) # 2\n",
    "print(repeats('Indivisibility')) # 1\n",
    "print(repeats('Indivisibilities')) # 2"
   ]
  },
  {
   "cell_type": "markdown",
   "metadata": {},
   "source": [
    "# Hands-On #7\n",
    "Trolls are spamming your social media comments with random words. You troll back by spamming them with the same words but with vowels replaced by *\n",
    "\n",
    "`5.5 min`"
   ]
  },
  {
   "cell_type": "code",
   "execution_count": 231,
   "metadata": {
    "ExecuteTime": {
     "end_time": "2020-07-12T16:08:02.875033Z",
     "start_time": "2020-07-12T16:08:02.871328Z"
    }
   },
   "outputs": [],
   "source": [
    "def troll(*args):\n",
    "    if len(args) == 1:\n",
    "        args = args[0]\n",
    "    vowels = 'aiueoAIUEO'\n",
    "    print(''.join(list(map(lambda x: '*' if x in vowels else x, args))))"
   ]
  },
  {
   "cell_type": "code",
   "execution_count": 232,
   "metadata": {
    "ExecuteTime": {
     "end_time": "2020-07-12T16:08:04.111591Z",
     "start_time": "2020-07-12T16:08:04.108698Z"
    }
   },
   "outputs": [
    {
     "name": "stdout",
     "output_type": "stream",
     "text": [
      "*n*s*f*l f*nct**n\n"
     ]
    }
   ],
   "source": [
    "# Test run\n",
    "troll('Unuseful function') # *n*s*f*l f*nct**n"
   ]
  },
  {
   "cell_type": "markdown",
   "metadata": {},
   "source": [
    "# Hands-On #9\n",
    "Write a function to convert RGB values to hexadecimal representation. Valid decimal values for RGB are 0 - 255. Values that fall out of that range must be rounded to the closest valid value.\n",
    "\n",
    "`14 min`"
   ]
  },
  {
   "cell_type": "code",
   "execution_count": 239,
   "metadata": {
    "ExecuteTime": {
     "end_time": "2020-07-12T16:24:51.095223Z",
     "start_time": "2020-07-12T16:24:51.091229Z"
    }
   },
   "outputs": [],
   "source": [
    "def rgb(red, green, blue):\n",
    "    red = max(0, min(red, 255))\n",
    "    green = max(0, min(green, 255))\n",
    "    blue = max(0, min(blue, 255))\n",
    "    print('#{0:02x}{1:02x}{2:02x}'.format(red, green, blue))"
   ]
  },
  {
   "cell_type": "code",
   "execution_count": 240,
   "metadata": {
    "ExecuteTime": {
     "end_time": "2020-07-12T16:24:51.695383Z",
     "start_time": "2020-07-12T16:24:51.690779Z"
    }
   },
   "outputs": [
    {
     "name": "stdout",
     "output_type": "stream",
     "text": [
      "#ffffff\n",
      "#ffffff\n",
      "#000000\n",
      "#9400d3\n"
     ]
    }
   ],
   "source": [
    "# Test run\n",
    "rgb(255, 255, 255) # FFFFFF\n",
    "rgb(255, 255, 300) # FFFFFF\n",
    "rgb(0, 0, 0) #000000\n",
    "rgb(148, 0, 211) #9400D3"
   ]
  },
  {
   "cell_type": "markdown",
   "metadata": {},
   "source": [
    "# Hands-On #10\n",
    "Create a Pig Latin translator. Rules to convert English to Pig Latin:\n",
    "1. Words that start with a vowel will end with 'ay' e.g 'eggs' -> 'eggsay'\n",
    "2. Words that start with a consonant will have its consonant group move to the end and appended with 'ay' e.g. 'shop' -> 'opshay'\n",
    "3. Treat 'y' as a vowel\n",
    "\n",
    "`7 min`"
   ]
  },
  {
   "cell_type": "code",
   "execution_count": 252,
   "metadata": {
    "ExecuteTime": {
     "end_time": "2020-07-12T16:36:34.092295Z",
     "start_time": "2020-07-12T16:36:34.087114Z"
    }
   },
   "outputs": [],
   "source": [
    "def pig_latin(*args):\n",
    "    if len(args) == 1:\n",
    "        args = args[0]\n",
    "    vowels = 'aiueoyAIUEOY'\n",
    "    pigs = []\n",
    "    for words in args.split():\n",
    "        if words[0] in vowels:\n",
    "            pigs.append(words + 'ay')\n",
    "        else:\n",
    "            # find the index first\n",
    "            for i in range(len(words)):\n",
    "                if words[i] in vowels:\n",
    "                    index = i\n",
    "                    break\n",
    "            pigs.append(words[index:] + 'ay')\n",
    "    return pigs"
   ]
  },
  {
   "cell_type": "code",
   "execution_count": 253,
   "metadata": {
    "ExecuteTime": {
     "end_time": "2020-07-12T16:36:40.263680Z",
     "start_time": "2020-07-12T16:36:34.519348Z"
    }
   },
   "outputs": [
    {
     "name": "stdout",
     "output_type": "stream",
     "text": [
      "Enter a sentence: I love the elegance of python\n",
      "['Iay', 'oveay', 'eay', 'eleganceay', 'ofay', 'ythonay']\n"
     ]
    }
   ],
   "source": [
    "# Test drive\n",
    "x = input('Enter a sentence: ')\n",
    "print(pig_latin(x))"
   ]
  },
  {
   "cell_type": "markdown",
   "metadata": {},
   "source": [
    "# Hands-On #11\n",
    "Create a function that behaves this way:\n",
    "\n",
    "`4 min`"
   ]
  },
  {
   "cell_type": "code",
   "execution_count": 261,
   "metadata": {
    "ExecuteTime": {
     "end_time": "2020-07-12T16:45:55.479029Z",
     "start_time": "2020-07-12T16:45:55.474341Z"
    }
   },
   "outputs": [],
   "source": [
    "def foo(command, obstacle):\n",
    "    path = ''\n",
    "    for i in range(len(obstacle)):\n",
    "        if obstacle[i] == '_':\n",
    "            if command[i] == 'run':\n",
    "                path += obstacle[i]\n",
    "            else:\n",
    "                path += 'X'\n",
    "        elif obstacle[i] == '|':\n",
    "            if command[i] == 'run':\n",
    "                path += '/'\n",
    "            else:\n",
    "                path += obstacle[i]\n",
    "    print(path)\n",
    "    return None"
   ]
  },
  {
   "cell_type": "code",
   "execution_count": 260,
   "metadata": {
    "ExecuteTime": {
     "end_time": "2020-07-12T16:45:39.313756Z",
     "start_time": "2020-07-12T16:45:39.308217Z"
    }
   },
   "outputs": [
    {
     "name": "stdout",
     "output_type": "stream",
     "text": [
      "_|_|_\n",
      "_|_/_\n",
      "_/_/_\n",
      "X|X|X\n",
      "X/X/X\n"
     ]
    }
   ],
   "source": [
    "# test run\n",
    "foo(['run', 'jump', 'run', 'jump', 'run'], '_|_|_') # _|_|_\n",
    "foo(['run', 'jump', 'run', 'run', 'run'], '_|_|_') # _|_/_\n",
    "foo(['run', 'run', 'run', 'run', 'run'], '_|_|_') # _/_/_\n",
    "foo(['jump', 'jump', 'jump', 'jump', 'jump'], '_|_|_') # X|X|X\n",
    "foo(['jump', 'run', 'jump', 'run', 'jump'], '_|_|_') # X/X/X"
   ]
  },
  {
   "cell_type": "markdown",
   "metadata": {},
   "source": [
    "# Hands-On #12\n",
    "Given an n x n matrix, return a list of elements with a sequence of elements from the matrix `spiralling in`"
   ]
  },
  {
   "cell_type": "code",
   "execution_count": 6,
   "metadata": {
    "ExecuteTime": {
     "end_time": "2020-07-13T17:00:17.060356Z",
     "start_time": "2020-07-13T17:00:17.056617Z"
    }
   },
   "outputs": [],
   "source": [
    "def spiral(*args):\n",
    "    if len(args) == 1:\n",
    "        args = args[0]\n",
    "    # Use list comprehension to flatten the nested list\n",
    "    flat = [inner \n",
    "            for outer in args \n",
    "            for inner in outer ]\n",
    "    fuel = len(flat)\n",
    "    # Define initial values\n",
    "    i = 0\n",
    "    j = 0\n",
    "    result = []\n",
    "    move = 'right'\n",
    "    step = 0\n",
    "    while len(result) < fuel: # It always check the length after each moves\n",
    "        # Eat the current tile\n",
    "        result.append(args[i][j])\n",
    "        if move == 'right':\n",
    "            j += 1\n",
    "            if j == len(args[i]):\n",
    "                j -= 1\n",
    "                i -= 1\n",
    "                move = 'down'\n",
    "        elif moves[index] == 'down':\n",
    "            i -= 1\n",
    "        elif moves[index] == 'left':\n",
    "            j -= 1\n",
    "        elif moves[index] == 'up':\n",
    "            i += 1\n",
    "    return result"
   ]
  },
  {
   "cell_type": "code",
   "execution_count": 7,
   "metadata": {
    "ExecuteTime": {
     "end_time": "2020-07-13T17:00:17.477900Z",
     "start_time": "2020-07-13T17:00:17.471852Z"
    }
   },
   "outputs": [
    {
     "name": "stdout",
     "output_type": "stream",
     "text": [
      "[1]\n",
      "None\n",
      "[1, 2, 4, 5]\n",
      "None\n",
      "[1, 2, 3, 4, 5, 6, 7, 8, 9]\n",
      "None\n",
      "[1, 2, 3, 1, 4, 5, 6, 4, 7, 8, 9, 7, 7, 8, 9, 7]\n",
      "None\n"
     ]
    }
   ],
   "source": [
    "# Test set\n",
    "print(spiral([[1]])) # [1]\n",
    "print(spiral([[1,2],\n",
    "             [4,5]])) # [1,2,5,4]\n",
    "print(spiral([[1,2,3],\n",
    "             [4,5,6],\n",
    "             [7,8,9]])) # [1,2,3,6,9,8,7,4,5]\n",
    "print(spiral([[1,2,3,1],\n",
    "             [4,5,6,4],\n",
    "             [7,8,9,7],\n",
    "             [7,8,9,7]])) # [1,2,3,1,4,7,7,9,8,7,7,4,5,6,9,8]"
   ]
  },
  {
   "cell_type": "code",
   "execution_count": null,
   "metadata": {},
   "outputs": [],
   "source": []
  },
  {
   "cell_type": "code",
   "execution_count": null,
   "metadata": {},
   "outputs": [],
   "source": []
  }
 ],
 "metadata": {
  "hide_input": false,
  "kernelspec": {
   "display_name": "Python 3",
   "language": "python",
   "name": "python3"
  },
  "language_info": {
   "codemirror_mode": {
    "name": "ipython",
    "version": 3
   },
   "file_extension": ".py",
   "mimetype": "text/x-python",
   "name": "python",
   "nbconvert_exporter": "python",
   "pygments_lexer": "ipython3",
   "version": "3.7.6"
  },
  "toc": {
   "base_numbering": 1,
   "nav_menu": {},
   "number_sections": true,
   "sideBar": true,
   "skip_h1_title": false,
   "title_cell": "Table of Contents",
   "title_sidebar": "Contents",
   "toc_cell": false,
   "toc_position": {},
   "toc_section_display": true,
   "toc_window_display": false
  },
  "varInspector": {
   "cols": {
    "lenName": 16,
    "lenType": 16,
    "lenVar": 40
   },
   "kernels_config": {
    "python": {
     "delete_cmd_postfix": "",
     "delete_cmd_prefix": "del ",
     "library": "var_list.py",
     "varRefreshCmd": "print(var_dic_list())"
    },
    "r": {
     "delete_cmd_postfix": ") ",
     "delete_cmd_prefix": "rm(",
     "library": "var_list.r",
     "varRefreshCmd": "cat(var_dic_list()) "
    }
   },
   "types_to_exclude": [
    "module",
    "function",
    "builtin_function_or_method",
    "instance",
    "_Feature"
   ],
   "window_display": false
  }
 },
 "nbformat": 4,
 "nbformat_minor": 4
}
